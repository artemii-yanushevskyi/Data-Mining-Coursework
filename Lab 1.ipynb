{
 "cells": [
  {
   "cell_type": "markdown",
   "metadata": {},
   "source": [
    "# Iris dataset"
   ]
  },
  {
   "cell_type": "markdown",
   "metadata": {},
   "source": [
    "## Make a note of the range of each attribute for later\n",
    "\n",
    "\n",
    "## What does a ‘good’ histogram look like?\n",
    "\n",
    "It should have enough bins to see the distribution pattern.\n",
    "\n",
    "\n",
    "## Which attribute would you choose and what would the rule be?\t\n",
    "By visual inspection, observing the histograms, can you create a rule that would allow you to separate the blue class (iris-setosa) from the other two classes using just one attribute? Which attribute would you choose and what would the rule be?\t\n",
    "\n",
    "It would be petalwidth attribute, if it is less than 0.58, then it's iris-setosa (blue).\n",
    "\n",
    "## Is it possible to separate all three classes by visual inspection? If not why not?\t\n",
    "\n",
    "No, two other classes overlap quite significantly.\n",
    "\n",
    "## What do you notice about the scatter plots on the diagonal (from top right to bottom left)?  Why do they have this special form?\t\n",
    "\n",
    "Because it is the graph of the variable against itself, for each variable.\n",
    "\n",
    "## By inspecting the plots, select a pair of attributes that you think will provide the best separation between classes.  Make a note of your selection for later.\n",
    "\n",
    "It is petal length and petal width graph.\n",
    "\n",
    "## How close was the rule you created by visual inspection to the results of the decision tree classifier (i.e. separating class a from class b and class c)? Are the attributes in the decision tree the same as those you chose by looking at the scatter plots?\n",
    "\n",
    "Well, only petal width and petal length is sufficient for the classification.\n",
    "\n",
    "```\n",
    "petalwidth <= 0.6: Iris-setosa (50.0)\n",
    "petalwidth > 0.6\n",
    "|   petalwidth <= 1.7\n",
    "|   |   petallength <= 4.9: Iris-versicolor (48.0/1.0)\n",
    "|   |   petallength > 4.9\n",
    "|   |   |   petalwidth <= 1.5: Iris-virginica (3.0)\n",
    "|   |   |   petalwidth > 1.5: Iris-versicolor (3.0/1.0)\n",
    "|   petalwidth > 1.7: Iris-virginica (46.0/1.0)\n",
    "```\n",
    "\n",
    "Like I said, \n",
    "\n",
    "> It would be petalwidth attribute, if it is less than 0.58, then it's iris-setosa (blue).\n",
    "\n"
   ]
  },
  {
   "cell_type": "code",
   "execution_count": 1,
   "metadata": {},
   "outputs": [],
   "source": [
    "library(ggplot2)\n"
   ]
  },
  {
   "cell_type": "code",
   "execution_count": null,
   "metadata": {},
   "outputs": [],
   "source": []
  }
 ],
 "metadata": {
  "kernelspec": {
   "display_name": "R",
   "language": "R",
   "name": "ir"
  },
  "language_info": {
   "codemirror_mode": "r",
   "file_extension": ".r",
   "mimetype": "text/x-r-source",
   "name": "R",
   "pygments_lexer": "r",
   "version": "3.5.1"
  }
 },
 "nbformat": 4,
 "nbformat_minor": 2
}
